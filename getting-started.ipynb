{
 "cells": [
  {
   "cell_type": "markdown",
   "id": "a889b27c-4ec9-4eb8-a23d-29e07d24503d",
   "metadata": {},
   "source": [
    "## Getting started with OpenAI"
   ]
  },
  {
   "cell_type": "markdown",
   "id": "226652a3-87cd-4f25-81bb-64f617648a4a",
   "metadata": {},
   "source": [
    "### Create a developer account with OpenAI\n",
    "\n",
    "1. Go to the [API signup page](https://platform.openai.com/signup). \n",
    "\n",
    "2. Create your account (you'll need to provide your email address and your phone number).\n",
    "\n",
    "<img src=\"images/openai-create-account.png\" alt=\"OpenAI account creation form\" width=\"200\">\n",
    "\n",
    "3. Go to the [API keys page](https://platform.openai.com/account/api-keys). \n",
    "\n",
    "4. Create a new secret key.\n",
    "\n",
    "<img src=\"images/openai-new-secret-key.png\" alt=\"OpenAI new secret key button\" width=\"200\">\n",
    "\n",
    "5. **Take a copy of it**. (If you lose it, delete the key and create a new one.)"
   ]
  },
  {
   "cell_type": "markdown",
   "id": "cbf6b61a-5d0f-4550-9424-1ec2c3fefafa",
   "metadata": {},
   "source": [
    "### Add a payment method\n",
    "\n",
    "OpenAI sometimes provides free credits for the API, but it's not clear if that is worldwide or what the conditions are. You may need to add debit/credit card details. \n",
    "\n",
    "**The API costs [$0.002 / 1000 tokens](https://openai.com/pricing) for GPT-3.5-turbo. [1000 tokens is about 750 words](https://help.openai.com/en/articles/4936856-what-are-tokens-and-how-to-count-them). Today's session should cost less than 2 US cents (but if you rerun tasks, you will be charged every time).**\n",
    "\n",
    "1. Go to the [Payment Methods page](https://platform.openai.com/account/billing/payment-methods).\n",
    "\n",
    "2. Click Add payment method.\n",
    "\n",
    "<img src=\"images/openai-add-payment-method.png\" width=\"200\">\n",
    "\n",
    "3. Fill in your card details."
   ]
  },
  {
   "cell_type": "markdown",
   "id": "28785b0d-ba6c-47f7-8a1a-3f8644824481",
   "metadata": {},
   "source": [
    "## Getting started with Pinecone"
   ]
  },
  {
   "cell_type": "markdown",
   "id": "865d14be-a9e0-4391-bd10-0a601f96d166",
   "metadata": {},
   "source": [
    "### Create a Pinecone account\n",
    "\n",
    "1. Go to the Pinecone sign up page.\n",
    "2. Create an account.\n",
    "3. In the left-hand navigation bar, click on \"API Keys\".\n",
    "4. Click the \"Create API Key\" button.\n",
    "5. Choose a name for the key to help you remember what you are using it for, then click OK.\n",
    "6. **Take a copy of it**. (If you lose it, delete the key and create a new one.)"
   ]
  },
  {
   "cell_type": "markdown",
   "id": "9a5a06b8-a6e1-4b9c-9955-e62e24757f7b",
   "metadata": {},
   "source": [
    "## Setting up Hugging Face"
   ]
  },
  {
   "cell_type": "markdown",
   "id": "7147b744-dc99-4c01-a475-f004db75d472",
   "metadata": {},
   "source": [
    "### Create a Hugging Face account\n",
    "\n",
    "1. Go to the [signup](https://huggingface.co/join) page.\n",
    "2. Enter your email and password, click next and fill in profile details to create an account.\n",
    "4. Go to the [Access Tokens](https://huggingface.co/settings/tokens) page.\n",
    "5. Click \"new Token\".\n",
    "6. Give a meaningful name to the token, and change the Role to \"write\", then click \"Generate a token\"."
   ]
  },
  {
   "cell_type": "markdown",
   "id": "8f09c97f-1378-4ecf-9065-c2fe2bb0f40d",
   "metadata": {},
   "source": [
    "## Setting up Workspace Integrations"
   ]
  },
  {
   "cell_type": "markdown",
   "id": "6735319b-788b-4329-a613-063f2b5408cf",
   "metadata": {},
   "source": [
    "### Adding Environment variables to Workspace\n",
    "\n",
    "| Software     | Name              | Value             |\n",
    "|--------------|-------------------|-------------------|\n",
    "| OpenAI       | OPENAI_API_KEY    | _your secret key_ |\n",
    "| Pinecone     | PINECONE_API_KEY  | _your secret key_ |\n",
    "| Hugging Face | HUGGINGFACE_TOKEN | _your secret key_ |\n"
   ]
  }
 ],
 "metadata": {
  "editor": "DataCamp Workspace",
  "kernelspec": {
   "display_name": "Python 3",
   "language": "python",
   "name": "python3"
  },
  "language_info": {
   "codemirror_mode": {
    "name": "ipython",
    "version": 3
   },
   "file_extension": ".py",
   "mimetype": "text/x-python",
   "name": "python",
   "nbconvert_exporter": "python",
   "pygments_lexer": "ipython3",
   "version": "3.12.6"
  }
 },
 "nbformat": 4,
 "nbformat_minor": 5
}
